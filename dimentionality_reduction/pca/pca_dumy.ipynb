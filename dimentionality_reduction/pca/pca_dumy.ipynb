{
 "cells": [
  {
   "cell_type": "code",
   "execution_count": 2,
   "id": "d898e7dd",
   "metadata": {},
   "outputs": [
    {
     "name": "stdout",
     "output_type": "stream",
     "text": [
      "PCA Components (Loadings):\n",
      " [[ 0.86478942  0.24342275 -0.39859917 -0.18439991]\n",
      " [ 0.32704453  0.34436351  0.64080555  0.60317816]]\n",
      "\n",
      "Explained Variance Ratio:\n",
      " [0.73652388 0.20788873]\n",
      "\n",
      "Feature Contributions to Each Principal Component:\n",
      "                        feature_A  feature_B  feature_C  feature_D\n",
      "Principal Component 1   0.864789   0.243423  -0.398599  -0.184400\n",
      "Principal Component 2   0.327045   0.344364   0.640806   0.603178\n"
     ]
    }
   ],
   "source": [
    "# Create some dummy data for demonstration\n",
    "# In a real scenario, X_train would be your actual training data\n",
    "import pandas as pd\n",
    "from sklearn.decomposition import PCA\n",
    "data = {\n",
    "    'feature_A': [10, 12, 15, 11, 13],\n",
    "    'feature_B': [2, 3, 4, 3, 2],\n",
    "    'feature_C': [8, 9, 7, 10, 8],\n",
    "    'feature_D': [5, 6, 5, 7, 6]\n",
    "}\n",
    "X = pd.DataFrame(data)\n",
    "\n",
    "# Initialize and fit PCA\n",
    "pca = PCA(n_components=2, random_state=0)\n",
    "pca.fit(X) # Fit PCA on the original X (before transformation)\n",
    "\n",
    "# Access the components (loadings)\n",
    "components = pca.components_\n",
    "print(\"PCA Components (Loadings):\\n\", components)\n",
    "\n",
    "# You can also get the explained variance ratio\n",
    "explained_variance_ratio = pca.explained_variance_ratio_\n",
    "print(\"\\nExplained Variance Ratio:\\n\", explained_variance_ratio)\n",
    "\n",
    "# To make it more interpretable, you can create a DataFrame\n",
    "feature_names = X.columns\n",
    "components_df = pd.DataFrame(components, columns=feature_names,\n",
    "                             index=['Principal Component 1', 'Principal Component 2'])\n",
    "print(\"\\nFeature Contributions to Each Principal Component:\\n\", components_df)"
   ]
  }
 ],
 "metadata": {
  "kernelspec": {
   "display_name": "kerasenv",
   "language": "python",
   "name": "python3"
  },
  "language_info": {
   "codemirror_mode": {
    "name": "ipython",
    "version": 3
   },
   "file_extension": ".py",
   "mimetype": "text/x-python",
   "name": "python",
   "nbconvert_exporter": "python",
   "pygments_lexer": "ipython3",
   "version": "3.9.13"
  }
 },
 "nbformat": 4,
 "nbformat_minor": 5
}
