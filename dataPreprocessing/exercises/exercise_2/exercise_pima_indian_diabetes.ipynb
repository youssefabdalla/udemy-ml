{
 "cells": [
  {
   "cell_type": "markdown",
   "metadata": {},
   "source": [
    "### directions\n",
    "1. Import the necessary Python libraries for data preprocessing, including the `SimpleImputer` class from the scikit-learn library.\n",
    "\n",
    "2. Load the dataset into a pandas DataFrame using the `read_csv` function from the pandas library. The dataset name is 'pima-indians-diabetes.csv'\n",
    "\n",
    "3. Identify missing data in your dataset. Print out the number of missing entries in each column. Analyze its potential impact on machine learning model training. This step is crucial as missing data can lead to inaccurate and misleading results.\n",
    "\n",
    "4. Implement a strategy for handling missing data, which is to replace it with the mean value, based on the nature of your dataset. Other strategies might include dropping the rows or columns with missing data, or replacing the missing data with a median or a constant value.\n",
    "\n",
    "5. Configure an instance of the `SimpleImputer` class to replace missing values with the mean value of the column.\n",
    "\n",
    "6. Apply the `fit` method of the `SimpleImputer` class on the numerical columns of your matrix of features.\n",
    "\n",
    "7. Use the `transform` method of the `SimpleImputer` class to replace missing data in the specified numerical columns.\n",
    "\n",
    "8. Update the matrix of features by assigning the result of the `transform` method to the correct columns.\n",
    "\n",
    "9. Print your updated matrix of features to verify the success of the missing data replacement."
   ]
  },
  {
   "cell_type": "code",
   "execution_count": 3,
   "metadata": {},
   "outputs": [],
   "source": [
    "from sklearn.impute import SimpleImputer\n",
    "import pandas as pd"
   ]
  },
  {
   "cell_type": "code",
   "execution_count": 4,
   "metadata": {},
   "outputs": [],
   "source": [
    "dataset = pd.read_csv('pima-indians-diabetes.csv')"
   ]
  },
  {
   "cell_type": "code",
   "execution_count": 5,
   "metadata": {},
   "outputs": [],
   "source": [
    "nan_counts = dataset.isna().sum()"
   ]
  },
  {
   "cell_type": "code",
   "execution_count": null,
   "metadata": {},
   "outputs": [],
   "source": [
    "simpleImputer = SimpleImputer()\n",
    "simpleImputer.fit(dataset)\n",
    "dataset = simpleImputer.transform(dataset)"
   ]
  }
 ],
 "metadata": {
  "kernelspec": {
   "display_name": "kerasenv",
   "language": "python",
   "name": "python3"
  },
  "language_info": {
   "codemirror_mode": {
    "name": "ipython",
    "version": 3
   },
   "file_extension": ".py",
   "mimetype": "text/x-python",
   "name": "python",
   "nbconvert_exporter": "python",
   "pygments_lexer": "ipython3",
   "version": "3.9.13"
  }
 },
 "nbformat": 4,
 "nbformat_minor": 2
}
